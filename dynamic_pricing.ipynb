{
 "cells": [
  {
   "cell_type": "markdown",
   "metadata": {},
   "source": [
    "## Dynamic Pricing - ANOVA Test - Sales Simulation\n"
   ]
  },
  {
   "cell_type": "markdown",
   "metadata": {},
   "source": [
    "##### In this project I tried to apply ANOVA Test to find out optimum price of a product across different shops and simulate sales with different prices. Our goal is to ensure the maximum profit as predicted :)"
   ]
  },
  {
   "cell_type": "markdown",
   "metadata": {},
   "source": [
    "##### The data we are going to use is consist of 2 columns which are Shop_id and Price.\n",
    "##### The Shop_id represents 6 different shops and price is the amount that how much a customer wish to pay for a particular Item\n",
    "##### Data set is consist of survey answers taken place different shops.\n",
    "##### This project considers that survey participants answered the questions with rationality"
   ]
  },
  {
   "cell_type": "markdown",
   "metadata": {},
   "source": [
    "### Imports"
   ]
  },
  {
   "cell_type": "code",
   "execution_count": 1,
   "metadata": {},
   "outputs": [],
   "source": [
    "import numpy as np\n",
    "import pandas as pd\n",
    "import scipy.stats as stats\n",
    "from scipy.stats import shapiro\n",
    "import statsmodels.stats.api as sms"
   ]
  },
  {
   "cell_type": "markdown",
   "metadata": {},
   "source": [
    "### Data Prepaeration"
   ]
  },
  {
   "cell_type": "code",
   "execution_count": 2,
   "metadata": {},
   "outputs": [],
   "source": [
    "df= pd.read_csv(\"data.csv\")"
   ]
  },
  {
   "cell_type": "code",
   "execution_count": 3,
   "metadata": {},
   "outputs": [
    {
     "data": {
      "text/html": [
       "<div>\n",
       "<style scoped>\n",
       "    .dataframe tbody tr th:only-of-type {\n",
       "        vertical-align: middle;\n",
       "    }\n",
       "\n",
       "    .dataframe tbody tr th {\n",
       "        vertical-align: top;\n",
       "    }\n",
       "\n",
       "    .dataframe thead th {\n",
       "        text-align: right;\n",
       "    }\n",
       "</style>\n",
       "<table border=\"1\" class=\"dataframe\">\n",
       "  <thead>\n",
       "    <tr style=\"text-align: right;\">\n",
       "      <th></th>\n",
       "      <th>shop_id</th>\n",
       "      <th>price</th>\n",
       "    </tr>\n",
       "  </thead>\n",
       "  <tbody>\n",
       "    <tr>\n",
       "      <th>0</th>\n",
       "      <td>shop_4</td>\n",
       "      <td>32.117753</td>\n",
       "    </tr>\n",
       "    <tr>\n",
       "      <th>1</th>\n",
       "      <td>shop_3</td>\n",
       "      <td>30.711370</td>\n",
       "    </tr>\n",
       "    <tr>\n",
       "      <th>2</th>\n",
       "      <td>shop_3</td>\n",
       "      <td>31.572607</td>\n",
       "    </tr>\n",
       "    <tr>\n",
       "      <th>3</th>\n",
       "      <td>shop_4</td>\n",
       "      <td>34.543840</td>\n",
       "    </tr>\n",
       "    <tr>\n",
       "      <th>4</th>\n",
       "      <td>shop_4</td>\n",
       "      <td>47.205824</td>\n",
       "    </tr>\n",
       "  </tbody>\n",
       "</table>\n",
       "</div>"
      ],
      "text/plain": [
       "  shop_id      price\n",
       "0  shop_4  32.117753\n",
       "1  shop_3  30.711370\n",
       "2  shop_3  31.572607\n",
       "3  shop_4  34.543840\n",
       "4  shop_4  47.205824"
      ]
     },
     "execution_count": 3,
     "metadata": {},
     "output_type": "execute_result"
    }
   ],
   "source": [
    "df.head()"
   ]
  },
  {
   "cell_type": "code",
   "execution_count": 4,
   "metadata": {},
   "outputs": [
    {
     "data": {
      "text/plain": [
       "shop_4    1661\n",
       "shop_6     733\n",
       "shop_3     615\n",
       "shop_2     144\n",
       "shop_5     129\n",
       "shop_1      97\n",
       "Name: shop_id, dtype: int64"
      ]
     },
     "execution_count": 4,
     "metadata": {},
     "output_type": "execute_result"
    }
   ],
   "source": [
    "df.shop_id.value_counts()"
   ]
  },
  {
   "cell_type": "markdown",
   "metadata": {},
   "source": [
    "##### As we can see here the survey participants are not balanced between shops. But this is not a problem. ANOVA test is robust and can handle unequal number of observations problem."
   ]
  },
  {
   "cell_type": "markdown",
   "metadata": {},
   "source": [
    "##### Lets see what is the mean of price in different shops"
   ]
  },
  {
   "cell_type": "code",
   "execution_count": 5,
   "metadata": {},
   "outputs": [
    {
     "data": {
      "text/html": [
       "<div>\n",
       "<style scoped>\n",
       "    .dataframe tbody tr th:only-of-type {\n",
       "        vertical-align: middle;\n",
       "    }\n",
       "\n",
       "    .dataframe tbody tr th {\n",
       "        vertical-align: top;\n",
       "    }\n",
       "\n",
       "    .dataframe thead th {\n",
       "        text-align: right;\n",
       "    }\n",
       "</style>\n",
       "<table border=\"1\" class=\"dataframe\">\n",
       "  <thead>\n",
       "    <tr style=\"text-align: right;\">\n",
       "      <th></th>\n",
       "      <th>price</th>\n",
       "    </tr>\n",
       "    <tr>\n",
       "      <th>shop_id</th>\n",
       "      <th></th>\n",
       "    </tr>\n",
       "  </thead>\n",
       "  <tbody>\n",
       "    <tr>\n",
       "      <th>shop_1</th>\n",
       "      <td>36.175498</td>\n",
       "    </tr>\n",
       "    <tr>\n",
       "      <th>shop_2</th>\n",
       "      <td>35.693170</td>\n",
       "    </tr>\n",
       "    <tr>\n",
       "      <th>shop_3</th>\n",
       "      <td>35.477261</td>\n",
       "    </tr>\n",
       "    <tr>\n",
       "      <th>shop_4</th>\n",
       "      <td>43.872913</td>\n",
       "    </tr>\n",
       "    <tr>\n",
       "      <th>shop_5</th>\n",
       "      <td>37.443592</td>\n",
       "    </tr>\n",
       "    <tr>\n",
       "      <th>shop_6</th>\n",
       "      <td>40.376575</td>\n",
       "    </tr>\n",
       "  </tbody>\n",
       "</table>\n",
       "</div>"
      ],
      "text/plain": [
       "             price\n",
       "shop_id           \n",
       "shop_1   36.175498\n",
       "shop_2   35.693170\n",
       "shop_3   35.477261\n",
       "shop_4   43.872913\n",
       "shop_5   37.443592\n",
       "shop_6   40.376575"
      ]
     },
     "execution_count": 5,
     "metadata": {},
     "output_type": "execute_result"
    }
   ],
   "source": [
    "df.groupby(\"shop_id\").agg({\"price\": \"mean\"})"
   ]
  },
  {
   "cell_type": "markdown",
   "metadata": {},
   "source": [
    "##### Without the test shop_4 looks different than the other shops. But we will see "
   ]
  },
  {
   "cell_type": "code",
   "execution_count": 6,
   "metadata": {},
   "outputs": [
    {
     "data": {
      "text/html": [
       "<div>\n",
       "<style scoped>\n",
       "    .dataframe tbody tr th:only-of-type {\n",
       "        vertical-align: middle;\n",
       "    }\n",
       "\n",
       "    .dataframe tbody tr th {\n",
       "        vertical-align: top;\n",
       "    }\n",
       "\n",
       "    .dataframe thead th {\n",
       "        text-align: right;\n",
       "    }\n",
       "</style>\n",
       "<table border=\"1\" class=\"dataframe\">\n",
       "  <thead>\n",
       "    <tr style=\"text-align: right;\">\n",
       "      <th></th>\n",
       "      <th>count</th>\n",
       "      <th>mean</th>\n",
       "      <th>std</th>\n",
       "      <th>min</th>\n",
       "      <th>1%</th>\n",
       "      <th>5%</th>\n",
       "      <th>10%</th>\n",
       "      <th>25%</th>\n",
       "      <th>50%</th>\n",
       "      <th>75%</th>\n",
       "      <th>90%</th>\n",
       "      <th>95%</th>\n",
       "      <th>99%</th>\n",
       "      <th>max</th>\n",
       "    </tr>\n",
       "  </thead>\n",
       "  <tbody>\n",
       "    <tr>\n",
       "      <th>price</th>\n",
       "      <td>3379.0</td>\n",
       "      <td>40.771387</td>\n",
       "      <td>19.730179</td>\n",
       "      <td>10.0</td>\n",
       "      <td>30.0</td>\n",
       "      <td>30.0</td>\n",
       "      <td>30.0</td>\n",
       "      <td>31.802522</td>\n",
       "      <td>34.744389</td>\n",
       "      <td>40.569827</td>\n",
       "      <td>56.921335</td>\n",
       "      <td>74.453248</td>\n",
       "      <td>135.848659</td>\n",
       "      <td>205.052944</td>\n",
       "    </tr>\n",
       "  </tbody>\n",
       "</table>\n",
       "</div>"
      ],
      "text/plain": [
       "        count       mean        std   min    1%    5%   10%        25%  \\\n",
       "price  3379.0  40.771387  19.730179  10.0  30.0  30.0  30.0  31.802522   \n",
       "\n",
       "             50%        75%        90%        95%         99%         max  \n",
       "price  34.744389  40.569827  56.921335  74.453248  135.848659  205.052944  "
      ]
     },
     "execution_count": 6,
     "metadata": {},
     "output_type": "execute_result"
    }
   ],
   "source": [
    "df.describe([0.01, 0.05, 0.10, 0.25, 0.50, 0.75, 0.90, 0.95, 0.99]).T"
   ]
  },
  {
   "cell_type": "markdown",
   "metadata": {},
   "source": [
    "##### When we look at the variance of price variable we can see that our assumption regarding answers of survey participants seems allright with a couple of exception.\n",
    "\n",
    "##### Lets get rid of prices higher than 100"
   ]
  },
  {
   "cell_type": "code",
   "execution_count": 7,
   "metadata": {},
   "outputs": [],
   "source": [
    "df=df[df.price <= 100]"
   ]
  },
  {
   "cell_type": "code",
   "execution_count": 8,
   "metadata": {},
   "outputs": [
    {
     "data": {
      "text/html": [
       "<div>\n",
       "<style scoped>\n",
       "    .dataframe tbody tr th:only-of-type {\n",
       "        vertical-align: middle;\n",
       "    }\n",
       "\n",
       "    .dataframe tbody tr th {\n",
       "        vertical-align: top;\n",
       "    }\n",
       "\n",
       "    .dataframe thead th {\n",
       "        text-align: right;\n",
       "    }\n",
       "</style>\n",
       "<table border=\"1\" class=\"dataframe\">\n",
       "  <thead>\n",
       "    <tr style=\"text-align: right;\">\n",
       "      <th></th>\n",
       "      <th>count</th>\n",
       "      <th>mean</th>\n",
       "      <th>std</th>\n",
       "      <th>min</th>\n",
       "      <th>1%</th>\n",
       "      <th>5%</th>\n",
       "      <th>10%</th>\n",
       "      <th>25%</th>\n",
       "      <th>50%</th>\n",
       "      <th>75%</th>\n",
       "      <th>90%</th>\n",
       "      <th>95%</th>\n",
       "      <th>99%</th>\n",
       "      <th>max</th>\n",
       "    </tr>\n",
       "  </thead>\n",
       "  <tbody>\n",
       "    <tr>\n",
       "      <th>price</th>\n",
       "      <td>3292.0</td>\n",
       "      <td>38.284972</td>\n",
       "      <td>11.657494</td>\n",
       "      <td>10.0</td>\n",
       "      <td>30.0</td>\n",
       "      <td>30.0</td>\n",
       "      <td>30.0</td>\n",
       "      <td>31.672294</td>\n",
       "      <td>34.678475</td>\n",
       "      <td>38.528301</td>\n",
       "      <td>53.188295</td>\n",
       "      <td>65.198083</td>\n",
       "      <td>88.622812</td>\n",
       "      <td>99.169972</td>\n",
       "    </tr>\n",
       "  </tbody>\n",
       "</table>\n",
       "</div>"
      ],
      "text/plain": [
       "        count       mean        std   min    1%    5%   10%        25%  \\\n",
       "price  3292.0  38.284972  11.657494  10.0  30.0  30.0  30.0  31.672294   \n",
       "\n",
       "             50%        75%        90%        95%        99%        max  \n",
       "price  34.678475  38.528301  53.188295  65.198083  88.622812  99.169972  "
      ]
     },
     "execution_count": 8,
     "metadata": {},
     "output_type": "execute_result"
    }
   ],
   "source": [
    "df.describe([0.01, 0.05, 0.10, 0.25, 0.50, 0.75, 0.90, 0.95, 0.99]).T"
   ]
  },
  {
   "cell_type": "markdown",
   "metadata": {},
   "source": [
    "##### Lets seperate shops for Testing"
   ]
  },
  {
   "cell_type": "code",
   "execution_count": 9,
   "metadata": {},
   "outputs": [],
   "source": [
    "shop_1 = df[(df[\"shop_id\"] == \"shop_1\")][\"price\"].values.tolist()\n",
    "shop_2 = df[(df[\"shop_id\"] == \"shop_2\")][\"price\"].values.tolist()\n",
    "shop_3 = df[(df[\"shop_id\"] == \"shop_3\")][\"price\"].values.tolist()\n",
    "shop_4 = df[(df[\"shop_id\"] == \"shop_4\")][\"price\"].values.tolist()\n",
    "shop_5 = df[(df[\"shop_id\"] == \"shop_5\")][\"price\"].values.tolist()\n",
    "shop_6 = df[(df[\"shop_id\"] == \"shop_6\")][\"price\"].values.tolist()"
   ]
  },
  {
   "cell_type": "markdown",
   "metadata": {},
   "source": [
    "### One-Way ANOVA"
   ]
  },
  {
   "cell_type": "markdown",
   "metadata": {},
   "source": [
    "##### Our hypothesises\n",
    "\n",
    "##### H0 = Statisticly there is not a difference between prices accros shops\n",
    "##### H1 = Statisticly there is a difference between prices accros shops"
   ]
  },
  {
   "cell_type": "code",
   "execution_count": 21,
   "metadata": {},
   "outputs": [
    {
     "data": {
      "text/plain": [
       "F_onewayResult(statistic=21.448116375929295, pvalue=3.4519617842416194e-21)"
      ]
     },
     "execution_count": 21,
     "metadata": {},
     "output_type": "execute_result"
    }
   ],
   "source": [
    "stats.f_oneway(shop_1, shop_2, shop_3, shop_4, shop_5, shop_6)"
   ]
  },
  {
   "cell_type": "markdown",
   "metadata": {},
   "source": [
    "##### We rejected H0 hypothesis. Because, as you can see the p-value is an extremely small number"
   ]
  },
  {
   "cell_type": "markdown",
   "metadata": {},
   "source": [
    "##### In short, Yes there is a statisticly difference between prices accros the shops but where this difference stem from. Which shop or shops are responsible from this difference. Lets find out"
   ]
  },
  {
   "cell_type": "markdown",
   "metadata": {},
   "source": [
    "#### post-hoc test"
   ]
  },
  {
   "cell_type": "markdown",
   "metadata": {},
   "source": [
    "##### Now lets check the prices in different shops wheter normally distributed or not. If it is normally distributed we will use independent t-test (parametric). If not we will use Mann–Whitney U test (non-parametric)"
   ]
  },
  {
   "cell_type": "markdown",
   "metadata": {},
   "source": [
    "\n",
    "##### Our hypothesises\n",
    "##### H0 = Price variable is normally distributed\n",
    "##### H1 = Price variable is not normally distributed"
   ]
  },
  {
   "cell_type": "code",
   "execution_count": 10,
   "metadata": {},
   "outputs": [
    {
     "name": "stdout",
     "output_type": "stream",
     "text": [
      "Test statistics = 0.6190, p-value = 0.0000\n",
      "Test statistics = 0.5513, p-value = 0.0000\n",
      "Test statistics = 0.4935, p-value = 0.0000\n",
      "Test statistics = 0.7639, p-value = 0.0000\n",
      "Test statistics = 0.6382, p-value = 0.0000\n",
      "Test statistics = 0.6631, p-value = 0.0000\n"
     ]
    }
   ],
   "source": [
    "shop_list = [shop_1,shop_2,shop_3,shop_4,shop_5,shop_6]\n",
    "for i in shop_list:\n",
    "    test_statistics, pvalue = shapiro(i)\n",
    "    print('Test statistics = %.4f, p-value = %.4f' % (test_statistics, pvalue))"
   ]
  },
  {
   "cell_type": "markdown",
   "metadata": {},
   "source": [
    "\n",
    "##### We rejected H0 hypothesis. Because, as you can see the p-values are smaller than \"0,05\"\n",
    "##### In this case we need to use Mann–Whitney U test. If the data is not normally distributed we do not have to check the variance homogeneity"
   ]
  },
  {
   "cell_type": "code",
   "execution_count": 11,
   "metadata": {},
   "outputs": [],
   "source": [
    "shop_names = [\"shop_1\",\"shop_2\",\"shop_3\",\"shop_4\",\"shop_5\",\"shop_6\"] # shop names as string\n",
    "shop_pairs = []\n",
    "\n",
    "for first_shop in range(5):\n",
    "    for second_shop  in range(first_shop+1,6):\n",
    "        shop_pairs.append((shop_names[first_shop], shop_names[second_shop]))"
   ]
  },
  {
   "cell_type": "markdown",
   "metadata": {},
   "source": [
    "##### As you can see here we created all possible combinations to perform a  Mann–Whitney U test"
   ]
  },
  {
   "cell_type": "code",
   "execution_count": 12,
   "metadata": {},
   "outputs": [
    {
     "data": {
      "text/plain": [
       "[('shop_1', 'shop_2'),\n",
       " ('shop_1', 'shop_3'),\n",
       " ('shop_1', 'shop_4'),\n",
       " ('shop_1', 'shop_5'),\n",
       " ('shop_1', 'shop_6'),\n",
       " ('shop_2', 'shop_3'),\n",
       " ('shop_2', 'shop_4'),\n",
       " ('shop_2', 'shop_5'),\n",
       " ('shop_2', 'shop_6'),\n",
       " ('shop_3', 'shop_4'),\n",
       " ('shop_3', 'shop_5'),\n",
       " ('shop_3', 'shop_6'),\n",
       " ('shop_4', 'shop_5'),\n",
       " ('shop_4', 'shop_6'),\n",
       " ('shop_5', 'shop_6')]"
      ]
     },
     "execution_count": 12,
     "metadata": {},
     "output_type": "execute_result"
    }
   ],
   "source": [
    "shop_pairs"
   ]
  },
  {
   "cell_type": "code",
   "execution_count": 13,
   "metadata": {},
   "outputs": [],
   "source": [
    "test_stat = []\n",
    "p_values = []\n",
    "first_shop =[]\n",
    "shop_names = [\"shop_1\",\"shop_2\",\"shop_3\",\"shop_4\",\"shop_5\",\"shop_6\"] # shop names as string\n",
    "second_shop = []\n",
    "for first, second in shop_pairs: \n",
    "    st,p_v=stats.mannwhitneyu(df[(df[\"shop_id\"] == first)][\"price\"].values.tolist(), \n",
    "                          df[(df[\"shop_id\"] == second)][\"price\"].values.tolist())\n",
    "    test_stat.append(st.round(4))\n",
    "    p_values.append(p_v.round(4))\n",
    "    first_shop.append(first) \n",
    "    second_shop.append(second)\n",
    "p_value_table = pd.DataFrame({\"first_shop\":first_shop,\"second_shop\":second_shop,\"test_stat\": test_stat, \"p_values\":p_values})"
   ]
  },
  {
   "cell_type": "markdown",
   "metadata": {},
   "source": [
    "##### Here we created this owesome dataframe below to find out which shop or shops are responsible from difference between prices accros shops"
   ]
  },
  {
   "cell_type": "code",
   "execution_count": 14,
   "metadata": {},
   "outputs": [
    {
     "data": {
      "text/html": [
       "<div>\n",
       "<style scoped>\n",
       "    .dataframe tbody tr th:only-of-type {\n",
       "        vertical-align: middle;\n",
       "    }\n",
       "\n",
       "    .dataframe tbody tr th {\n",
       "        vertical-align: top;\n",
       "    }\n",
       "\n",
       "    .dataframe thead th {\n",
       "        text-align: right;\n",
       "    }\n",
       "</style>\n",
       "<table border=\"1\" class=\"dataframe\">\n",
       "  <thead>\n",
       "    <tr style=\"text-align: right;\">\n",
       "      <th></th>\n",
       "      <th>first_shop</th>\n",
       "      <th>second_shop</th>\n",
       "      <th>test_stat</th>\n",
       "      <th>p_values</th>\n",
       "    </tr>\n",
       "  </thead>\n",
       "  <tbody>\n",
       "    <tr>\n",
       "      <th>0</th>\n",
       "      <td>shop_1</td>\n",
       "      <td>shop_2</td>\n",
       "      <td>5010.0</td>\n",
       "      <td>0.0001</td>\n",
       "    </tr>\n",
       "    <tr>\n",
       "      <th>1</th>\n",
       "      <td>shop_1</td>\n",
       "      <td>shop_3</td>\n",
       "      <td>29424.0</td>\n",
       "      <td>0.4252</td>\n",
       "    </tr>\n",
       "    <tr>\n",
       "      <th>2</th>\n",
       "      <td>shop_1</td>\n",
       "      <td>shop_4</td>\n",
       "      <td>60158.0</td>\n",
       "      <td>0.0001</td>\n",
       "    </tr>\n",
       "    <tr>\n",
       "      <th>3</th>\n",
       "      <td>shop_1</td>\n",
       "      <td>shop_5</td>\n",
       "      <td>6121.0</td>\n",
       "      <td>0.3905</td>\n",
       "    </tr>\n",
       "    <tr>\n",
       "      <th>4</th>\n",
       "      <td>shop_1</td>\n",
       "      <td>shop_6</td>\n",
       "      <td>34006.0</td>\n",
       "      <td>0.4124</td>\n",
       "    </tr>\n",
       "    <tr>\n",
       "      <th>5</th>\n",
       "      <td>shop_2</td>\n",
       "      <td>shop_3</td>\n",
       "      <td>31313.0</td>\n",
       "      <td>0.0000</td>\n",
       "    </tr>\n",
       "    <tr>\n",
       "      <th>6</th>\n",
       "      <td>shop_2</td>\n",
       "      <td>shop_4</td>\n",
       "      <td>65110.0</td>\n",
       "      <td>0.0000</td>\n",
       "    </tr>\n",
       "    <tr>\n",
       "      <th>7</th>\n",
       "      <td>shop_2</td>\n",
       "      <td>shop_5</td>\n",
       "      <td>6575.5</td>\n",
       "      <td>0.0000</td>\n",
       "    </tr>\n",
       "    <tr>\n",
       "      <th>8</th>\n",
       "      <td>shop_2</td>\n",
       "      <td>shop_6</td>\n",
       "      <td>36586.0</td>\n",
       "      <td>0.0000</td>\n",
       "    </tr>\n",
       "    <tr>\n",
       "      <th>9</th>\n",
       "      <td>shop_3</td>\n",
       "      <td>shop_4</td>\n",
       "      <td>370034.5</td>\n",
       "      <td>0.0000</td>\n",
       "    </tr>\n",
       "    <tr>\n",
       "      <th>10</th>\n",
       "      <td>shop_3</td>\n",
       "      <td>shop_5</td>\n",
       "      <td>38807.0</td>\n",
       "      <td>0.3597</td>\n",
       "    </tr>\n",
       "    <tr>\n",
       "      <th>11</th>\n",
       "      <td>shop_3</td>\n",
       "      <td>shop_6</td>\n",
       "      <td>213697.0</td>\n",
       "      <td>0.2546</td>\n",
       "    </tr>\n",
       "    <tr>\n",
       "      <th>12</th>\n",
       "      <td>shop_4</td>\n",
       "      <td>shop_5</td>\n",
       "      <td>83360.5</td>\n",
       "      <td>0.0001</td>\n",
       "    </tr>\n",
       "    <tr>\n",
       "      <th>13</th>\n",
       "      <td>shop_4</td>\n",
       "      <td>shop_6</td>\n",
       "      <td>454601.0</td>\n",
       "      <td>0.0000</td>\n",
       "    </tr>\n",
       "    <tr>\n",
       "      <th>14</th>\n",
       "      <td>shop_5</td>\n",
       "      <td>shop_6</td>\n",
       "      <td>45675.0</td>\n",
       "      <td>0.4710</td>\n",
       "    </tr>\n",
       "  </tbody>\n",
       "</table>\n",
       "</div>"
      ],
      "text/plain": [
       "   first_shop second_shop  test_stat  p_values\n",
       "0      shop_1      shop_2     5010.0    0.0001\n",
       "1      shop_1      shop_3    29424.0    0.4252\n",
       "2      shop_1      shop_4    60158.0    0.0001\n",
       "3      shop_1      shop_5     6121.0    0.3905\n",
       "4      shop_1      shop_6    34006.0    0.4124\n",
       "5      shop_2      shop_3    31313.0    0.0000\n",
       "6      shop_2      shop_4    65110.0    0.0000\n",
       "7      shop_2      shop_5     6575.5    0.0000\n",
       "8      shop_2      shop_6    36586.0    0.0000\n",
       "9      shop_3      shop_4   370034.5    0.0000\n",
       "10     shop_3      shop_5    38807.0    0.3597\n",
       "11     shop_3      shop_6   213697.0    0.2546\n",
       "12     shop_4      shop_5    83360.5    0.0001\n",
       "13     shop_4      shop_6   454601.0    0.0000\n",
       "14     shop_5      shop_6    45675.0    0.4710"
      ]
     },
     "execution_count": 14,
     "metadata": {},
     "output_type": "execute_result"
    }
   ],
   "source": [
    "p_value_table"
   ]
  },
  {
   "cell_type": "markdown",
   "metadata": {},
   "source": [
    "##### As you can see all possible combinatios of price comparison between shops included in the table. But we are interested in the ones that p_values less than 0,05\n",
    "##### Lets filter them"
   ]
  },
  {
   "cell_type": "code",
   "execution_count": 15,
   "metadata": {},
   "outputs": [
    {
     "data": {
      "text/html": [
       "<div>\n",
       "<style scoped>\n",
       "    .dataframe tbody tr th:only-of-type {\n",
       "        vertical-align: middle;\n",
       "    }\n",
       "\n",
       "    .dataframe tbody tr th {\n",
       "        vertical-align: top;\n",
       "    }\n",
       "\n",
       "    .dataframe thead th {\n",
       "        text-align: right;\n",
       "    }\n",
       "</style>\n",
       "<table border=\"1\" class=\"dataframe\">\n",
       "  <thead>\n",
       "    <tr style=\"text-align: right;\">\n",
       "      <th></th>\n",
       "      <th>first_shop</th>\n",
       "      <th>second_shop</th>\n",
       "      <th>test_stat</th>\n",
       "      <th>p_values</th>\n",
       "    </tr>\n",
       "  </thead>\n",
       "  <tbody>\n",
       "    <tr>\n",
       "      <th>0</th>\n",
       "      <td>shop_1</td>\n",
       "      <td>shop_2</td>\n",
       "      <td>5010.0</td>\n",
       "      <td>0.0001</td>\n",
       "    </tr>\n",
       "    <tr>\n",
       "      <th>2</th>\n",
       "      <td>shop_1</td>\n",
       "      <td>shop_4</td>\n",
       "      <td>60158.0</td>\n",
       "      <td>0.0001</td>\n",
       "    </tr>\n",
       "    <tr>\n",
       "      <th>5</th>\n",
       "      <td>shop_2</td>\n",
       "      <td>shop_3</td>\n",
       "      <td>31313.0</td>\n",
       "      <td>0.0000</td>\n",
       "    </tr>\n",
       "    <tr>\n",
       "      <th>6</th>\n",
       "      <td>shop_2</td>\n",
       "      <td>shop_4</td>\n",
       "      <td>65110.0</td>\n",
       "      <td>0.0000</td>\n",
       "    </tr>\n",
       "    <tr>\n",
       "      <th>7</th>\n",
       "      <td>shop_2</td>\n",
       "      <td>shop_5</td>\n",
       "      <td>6575.5</td>\n",
       "      <td>0.0000</td>\n",
       "    </tr>\n",
       "    <tr>\n",
       "      <th>8</th>\n",
       "      <td>shop_2</td>\n",
       "      <td>shop_6</td>\n",
       "      <td>36586.0</td>\n",
       "      <td>0.0000</td>\n",
       "    </tr>\n",
       "    <tr>\n",
       "      <th>9</th>\n",
       "      <td>shop_3</td>\n",
       "      <td>shop_4</td>\n",
       "      <td>370034.5</td>\n",
       "      <td>0.0000</td>\n",
       "    </tr>\n",
       "    <tr>\n",
       "      <th>12</th>\n",
       "      <td>shop_4</td>\n",
       "      <td>shop_5</td>\n",
       "      <td>83360.5</td>\n",
       "      <td>0.0001</td>\n",
       "    </tr>\n",
       "    <tr>\n",
       "      <th>13</th>\n",
       "      <td>shop_4</td>\n",
       "      <td>shop_6</td>\n",
       "      <td>454601.0</td>\n",
       "      <td>0.0000</td>\n",
       "    </tr>\n",
       "  </tbody>\n",
       "</table>\n",
       "</div>"
      ],
      "text/plain": [
       "   first_shop second_shop  test_stat  p_values\n",
       "0      shop_1      shop_2     5010.0    0.0001\n",
       "2      shop_1      shop_4    60158.0    0.0001\n",
       "5      shop_2      shop_3    31313.0    0.0000\n",
       "6      shop_2      shop_4    65110.0    0.0000\n",
       "7      shop_2      shop_5     6575.5    0.0000\n",
       "8      shop_2      shop_6    36586.0    0.0000\n",
       "9      shop_3      shop_4   370034.5    0.0000\n",
       "12     shop_4      shop_5    83360.5    0.0001\n",
       "13     shop_4      shop_6   454601.0    0.0000"
      ]
     },
     "execution_count": 15,
     "metadata": {},
     "output_type": "execute_result"
    }
   ],
   "source": [
    "p_value_table[p_value_table[\"p_values\"]<0.05]"
   ]
  },
  {
   "cell_type": "markdown",
   "metadata": {},
   "source": [
    "##### Here if you carefully look, you will notice that all the lines above contains shop_4 or shop_2. \n",
    "\n",
    "##### This means that shop_2 and shop_4 is responsible from price difference accros the shops. \n",
    "\n",
    "##### According to line 4 they are not alike each other too. \n",
    "\n",
    "##### For the rest of the shops we can not say that they are statisticly different from each other interms of price.\n",
    "\n"
   ]
  },
  {
   "cell_type": "markdown",
   "metadata": {},
   "source": [
    "##### Now we know that the 2 shops mentioned above are different from other shops interms of price customers willing to pay.\n",
    "\n",
    "##### As our goal is to ensure maximum profit we need to have different prices in these 2 shops as they are not alike with any of the shops including each other.\n",
    "\n",
    "##### For other shops which are not statisticly different from each other interms of price, we can set the same price.\n",
    "\n",
    "##### As company policy we can decide that item price should be same across the shops. But we are not going to do that.\n"
   ]
  },
  {
   "cell_type": "markdown",
   "metadata": {},
   "source": [
    "### Confidence intervals"
   ]
  },
  {
   "cell_type": "markdown",
   "metadata": {},
   "source": [
    "##### As we decided to go on with different prices lets determine different confidence intervals. We are going to use this confidence intervals to simulate our revenue"
   ]
  },
  {
   "cell_type": "code",
   "execution_count": 24,
   "metadata": {},
   "outputs": [
    {
     "data": {
      "text/plain": [
       "(35.803488556367476, 36.7997387818449)"
      ]
     },
     "execution_count": 24,
     "metadata": {},
     "output_type": "execute_result"
    }
   ],
   "source": [
    "alike_shops = [\"shop_1\", \"shop_3\",\"shop_5\", \"shop_6\"] # alike shops interms of price\n",
    "shop_1356 = df[(df[\"shop_id\"].isin(alike_shops))] # here we are gathering them to calculate confidence interval\n",
    "shop_1356_con_int =sms.DescrStatsW(shop_1356[\"price\"]).tconfint_mean() # here we are calculating confidence interval\n",
    "shop_1356_con_int"
   ]
  },
  {
   "cell_type": "markdown",
   "metadata": {},
   "source": [
    "##### Here we calculated confidence interval for alike shops(shop_1, shop_3, shop_5, shop_6)"
   ]
  },
  {
   "cell_type": "code",
   "execution_count": 25,
   "metadata": {},
   "outputs": [
    {
     "data": {
      "text/plain": [
       "(33.244221031281384, 36.24683640338621)"
      ]
     },
     "execution_count": 25,
     "metadata": {},
     "output_type": "execute_result"
    }
   ],
   "source": [
    "shop_2_con_int = sms.DescrStatsW(shop_2).tconfint_mean() \n",
    "shop_2_con_int"
   ]
  },
  {
   "cell_type": "markdown",
   "metadata": {},
   "source": [
    "##### Here we calculated confidence interval for shop_2"
   ]
  },
  {
   "cell_type": "code",
   "execution_count": 26,
   "metadata": {},
   "outputs": [
    {
     "data": {
      "text/plain": [
       "(39.891734916786355, 41.15449478737718)"
      ]
     },
     "execution_count": 26,
     "metadata": {},
     "output_type": "execute_result"
    }
   ],
   "source": [
    "shop_4_con_int = sms.DescrStatsW(shop_4).tconfint_mean()\n",
    "shop_4_con_int"
   ]
  },
  {
   "cell_type": "markdown",
   "metadata": {},
   "source": [
    "##### Here we calculated confidence interval for shop_4"
   ]
  },
  {
   "cell_type": "markdown",
   "metadata": {},
   "source": [
    "### Simulations of Profit"
   ]
  },
  {
   "cell_type": "markdown",
   "metadata": {},
   "source": [
    "#### We will calculate the revenue with the minimum and maximum values of the confidence intervals "
   ]
  },
  {
   "cell_type": "markdown",
   "metadata": {},
   "source": [
    "#### First lets calculate the revenue with max value of confidence intervals"
   ]
  },
  {
   "cell_type": "markdown",
   "metadata": {},
   "source": [
    "##### Shop_1356 Revenue Calculation"
   ]
  },
  {
   "cell_type": "code",
   "execution_count": 27,
   "metadata": {},
   "outputs": [
    {
     "name": "stdout",
     "output_type": "stream",
     "text": [
      "Revenue: 10524.725291607641\n"
     ]
    }
   ],
   "source": [
    "freq_1356 = len(shop_1356[shop_1356[\"price\"] >= shop_1356_con_int[1]]) # here we determined that how many people is willing to pay more than our max confidence interval \n",
    "revenue_1356 = freq_1356 * shop_1356_con_int[1] # here we multiplied what we found above with max confidence interval to calculate revenue\n",
    "print(f'Revenue: {revenue_1356}')"
   ]
  },
  {
   "cell_type": "markdown",
   "metadata": {},
   "source": [
    "##### Shop_2 Revenue Calculation"
   ]
  },
  {
   "cell_type": "code",
   "execution_count": 28,
   "metadata": {},
   "outputs": [
    {
     "name": "stdout",
     "output_type": "stream",
     "text": [
      "Revenue: 724.9367280677243\n"
     ]
    }
   ],
   "source": [
    "shop_2 = df[(df[\"shop_id\"] == \"shop_2\")]\n",
    "freq_2 = len(shop_2[shop_2[\"price\"] >= shop_2_con_int[1]]) # here we determined that how many people is willing to pay more than our max confidence interval \n",
    "revenue_2 = freq_2 * shop_2_con_int[1] # here we multiplied what we found above with max confidence interval to calculate revenue\n",
    "print(f'Revenue: {revenue_2}')"
   ]
  },
  {
   "cell_type": "markdown",
   "metadata": {},
   "source": [
    "##### Shop_1356 Revenue Calculation"
   ]
  },
  {
   "cell_type": "code",
   "execution_count": 29,
   "metadata": {},
   "outputs": [
    {
     "name": "stdout",
     "output_type": "stream",
     "text": [
      "Revenue: 20412.629414539082\n"
     ]
    }
   ],
   "source": [
    "shop_4 = df[(df[\"shop_id\"] == \"shop_4\")]\n",
    "freq_4 = len(shop_4[shop_4[\"price\"] >= shop_4_con_int[1]]) # here we determined that how many people is willing to pay more than our max confidence interval \n",
    "revenue_4 = freq_4 * shop_4_con_int[1] # here we multiplied what we found above with max confidence interval to calculate revenue\n",
    "print(f'Revenue: {revenue_4}')"
   ]
  },
  {
   "cell_type": "code",
   "execution_count": 30,
   "metadata": {},
   "outputs": [
    {
     "data": {
      "text/plain": [
       "31662.29"
      ]
     },
     "execution_count": 30,
     "metadata": {},
     "output_type": "execute_result"
    }
   ],
   "source": [
    "total_revenue_with_max = revenue_1356 + revenue_2 + revenue_4 # here we calculate total revenue\n",
    "total_revenue_with_max.round(2)"
   ]
  },
  {
   "cell_type": "markdown",
   "metadata": {},
   "source": [
    "##### As you can see that our total revenue is 31662.29 for the scenario that we decided to go on max value of confidence interval "
   ]
  },
  {
   "cell_type": "markdown",
   "metadata": {},
   "source": [
    "##### Now lets calculate the profit with min value of confidence intervals"
   ]
  },
  {
   "cell_type": "markdown",
   "metadata": {},
   "source": [
    "##### Shop_1356 Revenue Calculation"
   ]
  },
  {
   "cell_type": "code",
   "execution_count": 31,
   "metadata": {},
   "outputs": [
    {
     "name": "stdout",
     "output_type": "stream",
     "text": [
      "Revenue: 12602.827971841352\n"
     ]
    }
   ],
   "source": [
    "freq_1356 = len(shop_1356[shop_1356[\"price\"] >= shop_1356_con_int[0]]) # here we determined that how many people is willing to pay more than our max confidence interval \n",
    "revenue_1356 = freq_1356 * shop_1356_con_int[0] # here we multiplied what we found above with max confidence interval to calculate revenue\n",
    "print(f'Revenue: {revenue_1356}')"
   ]
  },
  {
   "cell_type": "markdown",
   "metadata": {},
   "source": [
    "##### Shop_2 Revenue Calculation"
   ]
  },
  {
   "cell_type": "code",
   "execution_count": 32,
   "metadata": {},
   "outputs": [
    {
     "name": "stdout",
     "output_type": "stream",
     "text": [
      "Revenue: 1662.2110515640693\n"
     ]
    }
   ],
   "source": [
    "shop_2 = df[(df[\"shop_id\"] == \"shop_2\")]\n",
    "freq_2 = len(shop_2[shop_2[\"price\"] >= shop_2_con_int[0]]) # here we determined that how many people is willing to pay more than our max confidence interval \n",
    "revenue_2 = freq_2 * shop_2_con_int[0] # here we multiplied what we found above with max confidence interval to calculate revenue\n",
    "print(f'Revenue: {revenue_2}')"
   ]
  },
  {
   "cell_type": "markdown",
   "metadata": {},
   "source": [
    "##### Shop_1356 Revenue Calculation"
   ]
  },
  {
   "cell_type": "code",
   "execution_count": 33,
   "metadata": {},
   "outputs": [
    {
     "name": "stdout",
     "output_type": "stream",
     "text": [
      "Revenue: 21780.88726456535\n"
     ]
    }
   ],
   "source": [
    "shop_4 = df[(df[\"shop_id\"] == \"shop_4\")]\n",
    "freq_4 = len(shop_4[shop_4[\"price\"] >= shop_4_con_int[0]]) # here we determined that how many people is willing to pay more than our max confidence interval \n",
    "revenue_4 = freq_4 * shop_4_con_int[0] # here we multiplied what we found above with max confidence interval to calculate revenue\n",
    "print(f'Revenue: {revenue_4}')"
   ]
  },
  {
   "cell_type": "code",
   "execution_count": 34,
   "metadata": {},
   "outputs": [
    {
     "data": {
      "text/plain": [
       "36045.93"
      ]
     },
     "execution_count": 34,
     "metadata": {},
     "output_type": "execute_result"
    }
   ],
   "source": [
    "total_revenue_with_min = revenue_1356 + revenue_2 + revenue_4 # here we calculate total revenue\n",
    "total_revenue_with_min.round(2)"
   ]
  },
  {
   "cell_type": "markdown",
   "metadata": {},
   "source": [
    "##### As you can see that our total revenue is 36045.93 for the scenario that we decided to go on min value of confidence interval "
   ]
  },
  {
   "cell_type": "markdown",
   "metadata": {},
   "source": [
    "### Conclusion"
   ]
  },
  {
   "cell_type": "markdown",
   "metadata": {},
   "source": [
    "##### In this project our goal was to set optimum price for a particular item being sold in different shops\n",
    "\n",
    "##### We evaluated the survey results by applying ANOVA test to see wheter there is a statisticly significant difference between prices people wish to pay across the shops\n",
    "\n",
    "##### As we go deep in the source of this difference, found that 2 shops is are not alike with any other shops according to our Mann–Whitney U test result\n",
    "\n",
    "##### Then we determined to confidence intervals to finally simulate the sales according to maximum and minimum values of confidence interval"
   ]
  },
  {
   "cell_type": "markdown",
   "metadata": {},
   "source": [
    "##### According to our foundings above, setting the price to minimum value of confidence interval resulted in higher revenue amount. \n",
    "##### However it does not mean that it is more profitable to sell this product with min value of confidence interval as we do not know what is the cost for this product.\n",
    "##### But our job is done here. We made the necessary tests and provided the information needed."
   ]
  }
 ],
 "metadata": {
  "kernelspec": {
   "display_name": "Python 3",
   "language": "python",
   "name": "python3"
  },
  "language_info": {
   "codemirror_mode": {
    "name": "ipython",
    "version": 3
   },
   "file_extension": ".py",
   "mimetype": "text/x-python",
   "name": "python",
   "nbconvert_exporter": "python",
   "pygments_lexer": "ipython3",
   "version": "3.8.5"
  }
 },
 "nbformat": 4,
 "nbformat_minor": 4
}
